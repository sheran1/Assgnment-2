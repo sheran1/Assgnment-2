{
 "cells": [
  {
   "cell_type": "markdown",
   "id": "efa6e016",
   "metadata": {},
   "source": [
    "# NAME- SHERAN"
   ]
  },
  {
   "cell_type": "markdown",
   "id": "6ccb12a1",
   "metadata": {},
   "source": [
    "# ROLL NO - 2301560066"
   ]
  },
  {
   "cell_type": "markdown",
   "id": "82685ae8",
   "metadata": {},
   "source": [
    "# COURSE- MCA"
   ]
  },
  {
   "cell_type": "markdown",
   "id": "93fe9f0c",
   "metadata": {},
   "source": [
    "# SECTION-'A'"
   ]
  },
  {
   "cell_type": "code",
   "execution_count": 2,
   "id": "0949b973",
   "metadata": {},
   "outputs": [],
   "source": [
    "import pandas as pd\n",
    "import os"
   ]
  },
  {
   "cell_type": "code",
   "execution_count": 5,
   "id": "352bfffe",
   "metadata": {},
   "outputs": [
    {
     "data": {
      "text/html": [
       "<div>\n",
       "<style scoped>\n",
       "    .dataframe tbody tr th:only-of-type {\n",
       "        vertical-align: middle;\n",
       "    }\n",
       "\n",
       "    .dataframe tbody tr th {\n",
       "        vertical-align: top;\n",
       "    }\n",
       "\n",
       "    .dataframe thead th {\n",
       "        text-align: right;\n",
       "    }\n",
       "</style>\n",
       "<table border=\"1\" class=\"dataframe\">\n",
       "  <thead>\n",
       "    <tr style=\"text-align: right;\">\n",
       "      <th></th>\n",
       "      <th>name</th>\n",
       "      <th>job</th>\n",
       "      <th>company</th>\n",
       "      <th>street_address</th>\n",
       "      <th>city</th>\n",
       "      <th>state</th>\n",
       "      <th>email</th>\n",
       "      <th>user_name</th>\n",
       "    </tr>\n",
       "  </thead>\n",
       "  <tbody>\n",
       "    <tr>\n",
       "      <th>0</th>\n",
       "      <td>Patricia Schaefer</td>\n",
       "      <td>Programmer, systems</td>\n",
       "      <td>Estrada-Best</td>\n",
       "      <td>398 Paul Drive</td>\n",
       "      <td>Christianview</td>\n",
       "      <td>Delaware</td>\n",
       "      <td>lambdavid@gmail.com</td>\n",
       "      <td>ndavidson</td>\n",
       "    </tr>\n",
       "    <tr>\n",
       "      <th>1</th>\n",
       "      <td>Olivie Dubois</td>\n",
       "      <td>Ingénieur recherche et développement en agroal...</td>\n",
       "      <td>Moreno</td>\n",
       "      <td>rue Lucas Benard</td>\n",
       "      <td>Saint Anastasie-les-Bains</td>\n",
       "      <td>AR</td>\n",
       "      <td>berthelotjacqueline@mahe.fr</td>\n",
       "      <td>manonallain</td>\n",
       "    </tr>\n",
       "    <tr>\n",
       "      <th>2</th>\n",
       "      <td>Mary Davies-Kirk</td>\n",
       "      <td>Public affairs consultant</td>\n",
       "      <td>Baker Ltd</td>\n",
       "      <td>Flat 3\\nPugh mews</td>\n",
       "      <td>Stanleyfurt</td>\n",
       "      <td>ZA</td>\n",
       "      <td>middletonconor@hotmail.com</td>\n",
       "      <td>colemanmichael</td>\n",
       "    </tr>\n",
       "    <tr>\n",
       "      <th>3</th>\n",
       "      <td>Miroslawa Eckbauer</td>\n",
       "      <td>Dispensing optician</td>\n",
       "      <td>Ladeck GmbH</td>\n",
       "      <td>Mijo-Lübs-Straße 12</td>\n",
       "      <td>Neubrandenburg</td>\n",
       "      <td>Berlin</td>\n",
       "      <td>sophia01@yahoo.de</td>\n",
       "      <td>romanjunitz</td>\n",
       "    </tr>\n",
       "    <tr>\n",
       "      <th>4</th>\n",
       "      <td>Richard Bauer</td>\n",
       "      <td>Accountant, chartered certified</td>\n",
       "      <td>Hoffman-Rocha</td>\n",
       "      <td>6541 Rodriguez Wall</td>\n",
       "      <td>Carlosmouth</td>\n",
       "      <td>Texas</td>\n",
       "      <td>tross@jensen-ware.org</td>\n",
       "      <td>adam78</td>\n",
       "    </tr>\n",
       "    <tr>\n",
       "      <th>...</th>\n",
       "      <td>...</td>\n",
       "      <td>...</td>\n",
       "      <td>...</td>\n",
       "      <td>...</td>\n",
       "      <td>...</td>\n",
       "      <td>...</td>\n",
       "      <td>...</td>\n",
       "      <td>...</td>\n",
       "    </tr>\n",
       "    <tr>\n",
       "      <th>2075</th>\n",
       "      <td>Maurice Stey</td>\n",
       "      <td>Systems developer</td>\n",
       "      <td>Linke Margraf GmbH &amp; Co. OHG</td>\n",
       "      <td>Laila-Scheibe-Allee 2/0</td>\n",
       "      <td>Luckenwalde</td>\n",
       "      <td>Hamburg</td>\n",
       "      <td>gutknechtevelyn@niemeier.com</td>\n",
       "      <td>dkreusel</td>\n",
       "    </tr>\n",
       "    <tr>\n",
       "      <th>2076</th>\n",
       "      <td>Linda Alexander</td>\n",
       "      <td>Commrcil horiculuri</td>\n",
       "      <td>Webb, Ballald and Vasquel</td>\n",
       "      <td>5594 Persn Ciff</td>\n",
       "      <td>Mooneybury</td>\n",
       "      <td>Maryland</td>\n",
       "      <td>ahleythoa@ail.co</td>\n",
       "      <td>kennethrchn</td>\n",
       "    </tr>\n",
       "    <tr>\n",
       "      <th>2077</th>\n",
       "      <td>Diane Bailly</td>\n",
       "      <td>Pharmacien</td>\n",
       "      <td>Voisin</td>\n",
       "      <td>527, rue Dijoux</td>\n",
       "      <td>Duval-les-Bains</td>\n",
       "      <td>CH</td>\n",
       "      <td>aruiz@reynaud.fr</td>\n",
       "      <td>dorothee41</td>\n",
       "    </tr>\n",
       "    <tr>\n",
       "      <th>2078</th>\n",
       "      <td>Jorge Riba Cerdán</td>\n",
       "      <td>Hotel manager</td>\n",
       "      <td>Amador-Diego</td>\n",
       "      <td>Rambla de Adriana Barceló 854 Puerta 3</td>\n",
       "      <td>Huesca</td>\n",
       "      <td>Asturias</td>\n",
       "      <td>manuelamosquera@yahoo.com</td>\n",
       "      <td>eugenia17</td>\n",
       "    </tr>\n",
       "    <tr>\n",
       "      <th>2079</th>\n",
       "      <td>Ryan Thompson</td>\n",
       "      <td>Brewing technologist</td>\n",
       "      <td>Smith-Sullivan</td>\n",
       "      <td>136 Rodriguez Point</td>\n",
       "      <td>Bradfordborough</td>\n",
       "      <td>North Dakota</td>\n",
       "      <td>lcruz@gmail.com</td>\n",
       "      <td>cnewton</td>\n",
       "    </tr>\n",
       "  </tbody>\n",
       "</table>\n",
       "<p>2080 rows × 8 columns</p>\n",
       "</div>"
      ],
      "text/plain": [
       "                    name                                                job  \\\n",
       "0      Patricia Schaefer                                Programmer, systems   \n",
       "1          Olivie Dubois  Ingénieur recherche et développement en agroal...   \n",
       "2       Mary Davies-Kirk                          Public affairs consultant   \n",
       "3     Miroslawa Eckbauer                                Dispensing optician   \n",
       "4          Richard Bauer                    Accountant, chartered certified   \n",
       "...                  ...                                                ...   \n",
       "2075        Maurice Stey                                  Systems developer   \n",
       "2076     Linda Alexander                                Commrcil horiculuri   \n",
       "2077        Diane Bailly                                         Pharmacien   \n",
       "2078   Jorge Riba Cerdán                                      Hotel manager   \n",
       "2079       Ryan Thompson                               Brewing technologist   \n",
       "\n",
       "                           company                           street_address  \\\n",
       "0                     Estrada-Best                           398 Paul Drive   \n",
       "1                           Moreno                         rue Lucas Benard   \n",
       "2                        Baker Ltd                        Flat 3\\nPugh mews   \n",
       "3                      Ladeck GmbH                      Mijo-Lübs-Straße 12   \n",
       "4                    Hoffman-Rocha                      6541 Rodriguez Wall   \n",
       "...                            ...                                      ...   \n",
       "2075  Linke Margraf GmbH & Co. OHG                  Laila-Scheibe-Allee 2/0   \n",
       "2076     Webb, Ballald and Vasquel                          5594 Persn Ciff   \n",
       "2077                        Voisin                          527, rue Dijoux   \n",
       "2078                  Amador-Diego  Rambla de Adriana Barceló 854 Puerta 3    \n",
       "2079                Smith-Sullivan                      136 Rodriguez Point   \n",
       "\n",
       "                           city         state                         email  \\\n",
       "0                 Christianview      Delaware           lambdavid@gmail.com   \n",
       "1     Saint Anastasie-les-Bains            AR   berthelotjacqueline@mahe.fr   \n",
       "2                   Stanleyfurt            ZA    middletonconor@hotmail.com   \n",
       "3                Neubrandenburg        Berlin             sophia01@yahoo.de   \n",
       "4                   Carlosmouth         Texas         tross@jensen-ware.org   \n",
       "...                         ...           ...                           ...   \n",
       "2075                Luckenwalde       Hamburg  gutknechtevelyn@niemeier.com   \n",
       "2076                 Mooneybury      Maryland              ahleythoa@ail.co   \n",
       "2077            Duval-les-Bains            CH              aruiz@reynaud.fr   \n",
       "2078                     Huesca      Asturias     manuelamosquera@yahoo.com   \n",
       "2079            Bradfordborough  North Dakota               lcruz@gmail.com   \n",
       "\n",
       "           user_name  \n",
       "0          ndavidson  \n",
       "1        manonallain  \n",
       "2     colemanmichael  \n",
       "3        romanjunitz  \n",
       "4             adam78  \n",
       "...              ...  \n",
       "2075        dkreusel  \n",
       "2076     kennethrchn  \n",
       "2077      dorothee41  \n",
       "2078       eugenia17  \n",
       "2079         cnewton  \n",
       "\n",
       "[2080 rows x 8 columns]"
      ]
     },
     "execution_count": 5,
     "metadata": {},
     "output_type": "execute_result"
    }
   ],
   "source": [
    "customers = pd.read_csv(\"D:\\customer_data_duped.csv\",encoding='utf-8')\n",
    "customers"
   ]
  },
  {
   "cell_type": "markdown",
   "id": "8fe23598",
   "metadata": {},
   "source": [
    "# Checking Data Quality"
   ]
  },
  {
   "cell_type": "code",
   "execution_count": 6,
   "id": "0f45c351",
   "metadata": {},
   "outputs": [
    {
     "data": {
      "text/html": [
       "<div>\n",
       "<style scoped>\n",
       "    .dataframe tbody tr th:only-of-type {\n",
       "        vertical-align: middle;\n",
       "    }\n",
       "\n",
       "    .dataframe tbody tr th {\n",
       "        vertical-align: top;\n",
       "    }\n",
       "\n",
       "    .dataframe thead th {\n",
       "        text-align: right;\n",
       "    }\n",
       "</style>\n",
       "<table border=\"1\" class=\"dataframe\">\n",
       "  <thead>\n",
       "    <tr style=\"text-align: right;\">\n",
       "      <th></th>\n",
       "      <th>name</th>\n",
       "      <th>job</th>\n",
       "      <th>company</th>\n",
       "      <th>street_address</th>\n",
       "      <th>city</th>\n",
       "      <th>state</th>\n",
       "      <th>email</th>\n",
       "      <th>user_name</th>\n",
       "    </tr>\n",
       "  </thead>\n",
       "  <tbody>\n",
       "    <tr>\n",
       "      <th>0</th>\n",
       "      <td>Patricia Schaefer</td>\n",
       "      <td>Programmer, systems</td>\n",
       "      <td>Estrada-Best</td>\n",
       "      <td>398 Paul Drive</td>\n",
       "      <td>Christianview</td>\n",
       "      <td>Delaware</td>\n",
       "      <td>lambdavid@gmail.com</td>\n",
       "      <td>ndavidson</td>\n",
       "    </tr>\n",
       "    <tr>\n",
       "      <th>1</th>\n",
       "      <td>Olivie Dubois</td>\n",
       "      <td>Ingénieur recherche et développement en agroal...</td>\n",
       "      <td>Moreno</td>\n",
       "      <td>rue Lucas Benard</td>\n",
       "      <td>Saint Anastasie-les-Bains</td>\n",
       "      <td>AR</td>\n",
       "      <td>berthelotjacqueline@mahe.fr</td>\n",
       "      <td>manonallain</td>\n",
       "    </tr>\n",
       "    <tr>\n",
       "      <th>2</th>\n",
       "      <td>Mary Davies-Kirk</td>\n",
       "      <td>Public affairs consultant</td>\n",
       "      <td>Baker Ltd</td>\n",
       "      <td>Flat 3\\nPugh mews</td>\n",
       "      <td>Stanleyfurt</td>\n",
       "      <td>ZA</td>\n",
       "      <td>middletonconor@hotmail.com</td>\n",
       "      <td>colemanmichael</td>\n",
       "    </tr>\n",
       "    <tr>\n",
       "      <th>3</th>\n",
       "      <td>Miroslawa Eckbauer</td>\n",
       "      <td>Dispensing optician</td>\n",
       "      <td>Ladeck GmbH</td>\n",
       "      <td>Mijo-Lübs-Straße 12</td>\n",
       "      <td>Neubrandenburg</td>\n",
       "      <td>Berlin</td>\n",
       "      <td>sophia01@yahoo.de</td>\n",
       "      <td>romanjunitz</td>\n",
       "    </tr>\n",
       "    <tr>\n",
       "      <th>4</th>\n",
       "      <td>Richard Bauer</td>\n",
       "      <td>Accountant, chartered certified</td>\n",
       "      <td>Hoffman-Rocha</td>\n",
       "      <td>6541 Rodriguez Wall</td>\n",
       "      <td>Carlosmouth</td>\n",
       "      <td>Texas</td>\n",
       "      <td>tross@jensen-ware.org</td>\n",
       "      <td>adam78</td>\n",
       "    </tr>\n",
       "  </tbody>\n",
       "</table>\n",
       "</div>"
      ],
      "text/plain": [
       "                 name                                                job  \\\n",
       "0   Patricia Schaefer                                Programmer, systems   \n",
       "1       Olivie Dubois  Ingénieur recherche et développement en agroal...   \n",
       "2    Mary Davies-Kirk                          Public affairs consultant   \n",
       "3  Miroslawa Eckbauer                                Dispensing optician   \n",
       "4       Richard Bauer                    Accountant, chartered certified   \n",
       "\n",
       "         company       street_address                       city     state  \\\n",
       "0   Estrada-Best       398 Paul Drive              Christianview  Delaware   \n",
       "1         Moreno     rue Lucas Benard  Saint Anastasie-les-Bains        AR   \n",
       "2      Baker Ltd    Flat 3\\nPugh mews                Stanleyfurt        ZA   \n",
       "3    Ladeck GmbH  Mijo-Lübs-Straße 12             Neubrandenburg    Berlin   \n",
       "4  Hoffman-Rocha  6541 Rodriguez Wall                Carlosmouth     Texas   \n",
       "\n",
       "                         email       user_name  \n",
       "0          lambdavid@gmail.com       ndavidson  \n",
       "1  berthelotjacqueline@mahe.fr     manonallain  \n",
       "2   middletonconor@hotmail.com  colemanmichael  \n",
       "3            sophia01@yahoo.de     romanjunitz  \n",
       "4        tross@jensen-ware.org          adam78  "
      ]
     },
     "execution_count": 6,
     "metadata": {},
     "output_type": "execute_result"
    }
   ],
   "source": [
    "customers.head()"
   ]
  },
  {
   "cell_type": "code",
   "execution_count": 8,
   "id": "ae488230",
   "metadata": {},
   "outputs": [
    {
     "data": {
      "text/plain": [
       "name              object\n",
       "job               object\n",
       "company           object\n",
       "street_address    object\n",
       "city              object\n",
       "state             object\n",
       "email             object\n",
       "user_name         object\n",
       "dtype: object"
      ]
     },
     "execution_count": 8,
     "metadata": {},
     "output_type": "execute_result"
    }
   ],
   "source": [
    "customers.dtypes"
   ]
  },
  {
   "cell_type": "code",
   "execution_count": 9,
   "id": "4d58462a",
   "metadata": {},
   "outputs": [
    {
     "name": "stdout",
     "output_type": "stream",
     "text": [
      "name 0\n",
      "job 0\n",
      "company 0\n",
      "street_address 0\n",
      "city 0\n",
      "state 0\n",
      "email 0\n",
      "user_name 0\n"
     ]
    }
   ],
   "source": [
    "for col in customers.columns:\n",
    "    print(col, customers[col].isnull().sum())"
   ]
  },
  {
   "cell_type": "markdown",
   "id": "675536bf",
   "metadata": {},
   "source": [
    "# Setting up Dedupe"
   ]
  },
  {
   "cell_type": "code",
   "execution_count": 11,
   "id": "b135324f",
   "metadata": {},
   "outputs": [
    {
     "ename": "NameError",
     "evalue": "name 'deduper' is not defined",
     "output_type": "error",
     "traceback": [
      "\u001b[1;31m---------------------------------------------------------------------------\u001b[0m",
      "\u001b[1;31mNameError\u001b[0m                                 Traceback (most recent call last)",
      "Cell \u001b[1;32mIn[11], line 12\u001b[0m\n\u001b[0;32m      1\u001b[0m variables \u001b[38;5;241m=\u001b[39m [\n\u001b[0;32m      2\u001b[0m {\u001b[38;5;124m'\u001b[39m\u001b[38;5;124mfield\u001b[39m\u001b[38;5;124m'\u001b[39m: \u001b[38;5;124m'\u001b[39m\u001b[38;5;124mname\u001b[39m\u001b[38;5;124m'\u001b[39m, \u001b[38;5;124m'\u001b[39m\u001b[38;5;124mtype\u001b[39m\u001b[38;5;124m'\u001b[39m: \u001b[38;5;124m'\u001b[39m\u001b[38;5;124mString\u001b[39m\u001b[38;5;124m'\u001b[39m},\n\u001b[0;32m      3\u001b[0m {\u001b[38;5;124m'\u001b[39m\u001b[38;5;124mfield\u001b[39m\u001b[38;5;124m'\u001b[39m: \u001b[38;5;124m'\u001b[39m\u001b[38;5;124mjob\u001b[39m\u001b[38;5;124m'\u001b[39m, \u001b[38;5;124m'\u001b[39m\u001b[38;5;124mtype\u001b[39m\u001b[38;5;124m'\u001b[39m: \u001b[38;5;124m'\u001b[39m\u001b[38;5;124mString\u001b[39m\u001b[38;5;124m'\u001b[39m},\n\u001b[1;32m   (...)\u001b[0m\n\u001b[0;32m      9\u001b[0m {\u001b[38;5;124m'\u001b[39m\u001b[38;5;124mfield\u001b[39m\u001b[38;5;124m'\u001b[39m: \u001b[38;5;124m'\u001b[39m\u001b[38;5;124muser_name\u001b[39m\u001b[38;5;124m'\u001b[39m, \u001b[38;5;124m'\u001b[39m\u001b[38;5;124mtype\u001b[39m\u001b[38;5;124m'\u001b[39m: \u001b[38;5;124m'\u001b[39m\u001b[38;5;124mString\u001b[39m\u001b[38;5;124m'\u001b[39m},\n\u001b[0;32m     10\u001b[0m ]\n\u001b[1;32m---> 12\u001b[0m deduper \u001b[38;5;241m=\u001b[39m deduper\u001b[38;5;241m.\u001b[39mDeduper(variables)\n",
      "\u001b[1;31mNameError\u001b[0m: name 'deduper' is not defined"
     ]
    }
   ],
   "source": [
    "    variables = [\n",
    "    {'field': 'name', 'type': 'String'},\n",
    "    {'field': 'job', 'type': 'String'},\n",
    "    {'field': 'company', 'type': 'String'},  \n",
    "    {'field': 'street_address','type': 'String'},\n",
    "    {'field': 'city','type': 'String'},\n",
    "    {'field': 'state', 'type': 'String', 'has_missing': True},\n",
    "    {'field': 'email', 'type': 'String', 'has_missing': True},\n",
    "    {'field': 'user_name', 'type': 'String'},\n",
    "]\n",
    "\n",
    "deduper = deduper.Deduper(variables)"
   ]
  },
  {
   "cell_type": "code",
   "execution_count": 12,
   "id": "d835ec9e",
   "metadata": {},
   "outputs": [
    {
     "data": {
      "text/plain": [
       "(2080, 8)"
      ]
     },
     "execution_count": 12,
     "metadata": {},
     "output_type": "execute_result"
    }
   ],
   "source": [
    "customers.shape"
   ]
  },
  {
   "cell_type": "code",
   "execution_count": null,
   "id": "29c6f90a",
   "metadata": {},
   "outputs": [],
   "source": []
  },
  {
   "cell_type": "markdown",
   "id": "3dbe5d79",
   "metadata": {},
   "source": [
    "# Managing Nulls with Pandas"
   ]
  },
  {
   "cell_type": "code",
   "execution_count": 1,
   "id": "a42eacf9",
   "metadata": {},
   "outputs": [],
   "source": [
    "import pandas as pd\n",
    "from numpy import random"
   ]
  },
  {
   "cell_type": "code",
   "execution_count": 2,
   "id": "f3def31d",
   "metadata": {},
   "outputs": [],
   "source": [
    "df = pd.read_csv(\"D:\\\\iot_example_with_nulls.csv\")"
   ]
  },
  {
   "cell_type": "code",
   "execution_count": 3,
   "id": "18c61879",
   "metadata": {},
   "outputs": [
    {
     "data": {
      "text/html": [
       "<div>\n",
       "<style scoped>\n",
       "    .dataframe tbody tr th:only-of-type {\n",
       "        vertical-align: middle;\n",
       "    }\n",
       "\n",
       "    .dataframe tbody tr th {\n",
       "        vertical-align: top;\n",
       "    }\n",
       "\n",
       "    .dataframe thead th {\n",
       "        text-align: right;\n",
       "    }\n",
       "</style>\n",
       "<table border=\"1\" class=\"dataframe\">\n",
       "  <thead>\n",
       "    <tr style=\"text-align: right;\">\n",
       "      <th></th>\n",
       "      <th>timestamp</th>\n",
       "      <th>username</th>\n",
       "      <th>temperature</th>\n",
       "      <th>heartrate</th>\n",
       "      <th>build</th>\n",
       "      <th>latest</th>\n",
       "      <th>note</th>\n",
       "    </tr>\n",
       "  </thead>\n",
       "  <tbody>\n",
       "    <tr>\n",
       "      <th>0</th>\n",
       "      <td>2017-01-01T12:00:23</td>\n",
       "      <td>michaelsmith</td>\n",
       "      <td>12.0</td>\n",
       "      <td>67</td>\n",
       "      <td>4e6a7805-8faa-2768-6ef6-eb3198b483ac</td>\n",
       "      <td>0.0</td>\n",
       "      <td>interval</td>\n",
       "    </tr>\n",
       "    <tr>\n",
       "      <th>1</th>\n",
       "      <td>2017-01-01T12:01:09</td>\n",
       "      <td>kharrison</td>\n",
       "      <td>6.0</td>\n",
       "      <td>78</td>\n",
       "      <td>7256b7b0-e502-f576-62ec-ed73533c9c84</td>\n",
       "      <td>0.0</td>\n",
       "      <td>wake</td>\n",
       "    </tr>\n",
       "    <tr>\n",
       "      <th>2</th>\n",
       "      <td>2017-01-01T12:01:34</td>\n",
       "      <td>smithadam</td>\n",
       "      <td>5.0</td>\n",
       "      <td>89</td>\n",
       "      <td>9226c94b-bb4b-a6c8-8e02-cb42b53e9c90</td>\n",
       "      <td>0.0</td>\n",
       "      <td>NaN</td>\n",
       "    </tr>\n",
       "    <tr>\n",
       "      <th>3</th>\n",
       "      <td>2017-01-01T12:02:09</td>\n",
       "      <td>eddierodriguez</td>\n",
       "      <td>28.0</td>\n",
       "      <td>76</td>\n",
       "      <td>NaN</td>\n",
       "      <td>0.0</td>\n",
       "      <td>update</td>\n",
       "    </tr>\n",
       "    <tr>\n",
       "      <th>4</th>\n",
       "      <td>2017-01-01T12:02:36</td>\n",
       "      <td>kenneth94</td>\n",
       "      <td>29.0</td>\n",
       "      <td>62</td>\n",
       "      <td>122f1c6a-403c-2221-6ed1-b5caa08f11e0</td>\n",
       "      <td>NaN</td>\n",
       "      <td>NaN</td>\n",
       "    </tr>\n",
       "    <tr>\n",
       "      <th>...</th>\n",
       "      <td>...</td>\n",
       "      <td>...</td>\n",
       "      <td>...</td>\n",
       "      <td>...</td>\n",
       "      <td>...</td>\n",
       "      <td>...</td>\n",
       "      <td>...</td>\n",
       "    </tr>\n",
       "    <tr>\n",
       "      <th>146392</th>\n",
       "      <td>2017-02-28T23:58:06</td>\n",
       "      <td>mcontreras</td>\n",
       "      <td>15.0</td>\n",
       "      <td>63</td>\n",
       "      <td>69e61a15-d2d0-47a7-1a27-e07b3eeeba10</td>\n",
       "      <td>0.0</td>\n",
       "      <td>NaN</td>\n",
       "    </tr>\n",
       "    <tr>\n",
       "      <th>146393</th>\n",
       "      <td>2017-02-28T23:58:43</td>\n",
       "      <td>joelrusso</td>\n",
       "      <td>NaN</td>\n",
       "      <td>89</td>\n",
       "      <td>NaN</td>\n",
       "      <td>0.0</td>\n",
       "      <td>NaN</td>\n",
       "    </tr>\n",
       "    <tr>\n",
       "      <th>146394</th>\n",
       "      <td>2017-02-28T23:59:23</td>\n",
       "      <td>lellis</td>\n",
       "      <td>NaN</td>\n",
       "      <td>84</td>\n",
       "      <td>dac87426-e147-9c39-6e4c-790bb11f8fc9</td>\n",
       "      <td>0.0</td>\n",
       "      <td>update</td>\n",
       "    </tr>\n",
       "    <tr>\n",
       "      <th>146395</th>\n",
       "      <td>2017-02-28T23:59:48</td>\n",
       "      <td>grayjasmin</td>\n",
       "      <td>17.0</td>\n",
       "      <td>64</td>\n",
       "      <td>4911a589-3a15-4bbf-1de1-e5a69ab739da</td>\n",
       "      <td>1.0</td>\n",
       "      <td>update</td>\n",
       "    </tr>\n",
       "    <tr>\n",
       "      <th>146396</th>\n",
       "      <td>2017-03-01T00:00:30</td>\n",
       "      <td>jgreene</td>\n",
       "      <td>23.0</td>\n",
       "      <td>70</td>\n",
       "      <td>4f95bbca-26a7-29e7-1f19-aaedf1a51741</td>\n",
       "      <td>0.0</td>\n",
       "      <td>interval</td>\n",
       "    </tr>\n",
       "  </tbody>\n",
       "</table>\n",
       "<p>146397 rows × 7 columns</p>\n",
       "</div>"
      ],
      "text/plain": [
       "                  timestamp        username  temperature  heartrate  \\\n",
       "0       2017-01-01T12:00:23    michaelsmith         12.0         67   \n",
       "1       2017-01-01T12:01:09       kharrison          6.0         78   \n",
       "2       2017-01-01T12:01:34       smithadam          5.0         89   \n",
       "3       2017-01-01T12:02:09  eddierodriguez         28.0         76   \n",
       "4       2017-01-01T12:02:36       kenneth94         29.0         62   \n",
       "...                     ...             ...          ...        ...   \n",
       "146392  2017-02-28T23:58:06      mcontreras         15.0         63   \n",
       "146393  2017-02-28T23:58:43       joelrusso          NaN         89   \n",
       "146394  2017-02-28T23:59:23          lellis          NaN         84   \n",
       "146395  2017-02-28T23:59:48      grayjasmin         17.0         64   \n",
       "146396  2017-03-01T00:00:30         jgreene         23.0         70   \n",
       "\n",
       "                                       build  latest      note  \n",
       "0       4e6a7805-8faa-2768-6ef6-eb3198b483ac     0.0  interval  \n",
       "1       7256b7b0-e502-f576-62ec-ed73533c9c84     0.0      wake  \n",
       "2       9226c94b-bb4b-a6c8-8e02-cb42b53e9c90     0.0       NaN  \n",
       "3                                        NaN     0.0    update  \n",
       "4       122f1c6a-403c-2221-6ed1-b5caa08f11e0     NaN       NaN  \n",
       "...                                      ...     ...       ...  \n",
       "146392  69e61a15-d2d0-47a7-1a27-e07b3eeeba10     0.0       NaN  \n",
       "146393                                   NaN     0.0       NaN  \n",
       "146394  dac87426-e147-9c39-6e4c-790bb11f8fc9     0.0    update  \n",
       "146395  4911a589-3a15-4bbf-1de1-e5a69ab739da     1.0    update  \n",
       "146396  4f95bbca-26a7-29e7-1f19-aaedf1a51741     0.0  interval  \n",
       "\n",
       "[146397 rows x 7 columns]"
      ]
     },
     "execution_count": 3,
     "metadata": {},
     "output_type": "execute_result"
    }
   ],
   "source": [
    "df"
   ]
  },
  {
   "cell_type": "code",
   "execution_count": 4,
   "id": "7b30ac9c",
   "metadata": {},
   "outputs": [
    {
     "data": {
      "text/html": [
       "<div>\n",
       "<style scoped>\n",
       "    .dataframe tbody tr th:only-of-type {\n",
       "        vertical-align: middle;\n",
       "    }\n",
       "\n",
       "    .dataframe tbody tr th {\n",
       "        vertical-align: top;\n",
       "    }\n",
       "\n",
       "    .dataframe thead th {\n",
       "        text-align: right;\n",
       "    }\n",
       "</style>\n",
       "<table border=\"1\" class=\"dataframe\">\n",
       "  <thead>\n",
       "    <tr style=\"text-align: right;\">\n",
       "      <th></th>\n",
       "      <th>timestamp</th>\n",
       "      <th>username</th>\n",
       "      <th>temperature</th>\n",
       "      <th>heartrate</th>\n",
       "      <th>build</th>\n",
       "      <th>latest</th>\n",
       "      <th>note</th>\n",
       "    </tr>\n",
       "  </thead>\n",
       "  <tbody>\n",
       "    <tr>\n",
       "      <th>0</th>\n",
       "      <td>2017-01-01T12:00:23</td>\n",
       "      <td>michaelsmith</td>\n",
       "      <td>12.0</td>\n",
       "      <td>67</td>\n",
       "      <td>4e6a7805-8faa-2768-6ef6-eb3198b483ac</td>\n",
       "      <td>0.0</td>\n",
       "      <td>interval</td>\n",
       "    </tr>\n",
       "    <tr>\n",
       "      <th>1</th>\n",
       "      <td>2017-01-01T12:01:09</td>\n",
       "      <td>kharrison</td>\n",
       "      <td>6.0</td>\n",
       "      <td>78</td>\n",
       "      <td>7256b7b0-e502-f576-62ec-ed73533c9c84</td>\n",
       "      <td>0.0</td>\n",
       "      <td>wake</td>\n",
       "    </tr>\n",
       "    <tr>\n",
       "      <th>2</th>\n",
       "      <td>2017-01-01T12:01:34</td>\n",
       "      <td>smithadam</td>\n",
       "      <td>5.0</td>\n",
       "      <td>89</td>\n",
       "      <td>9226c94b-bb4b-a6c8-8e02-cb42b53e9c90</td>\n",
       "      <td>0.0</td>\n",
       "      <td>NaN</td>\n",
       "    </tr>\n",
       "    <tr>\n",
       "      <th>3</th>\n",
       "      <td>2017-01-01T12:02:09</td>\n",
       "      <td>eddierodriguez</td>\n",
       "      <td>28.0</td>\n",
       "      <td>76</td>\n",
       "      <td>NaN</td>\n",
       "      <td>0.0</td>\n",
       "      <td>update</td>\n",
       "    </tr>\n",
       "    <tr>\n",
       "      <th>4</th>\n",
       "      <td>2017-01-01T12:02:36</td>\n",
       "      <td>kenneth94</td>\n",
       "      <td>29.0</td>\n",
       "      <td>62</td>\n",
       "      <td>122f1c6a-403c-2221-6ed1-b5caa08f11e0</td>\n",
       "      <td>NaN</td>\n",
       "      <td>NaN</td>\n",
       "    </tr>\n",
       "  </tbody>\n",
       "</table>\n",
       "</div>"
      ],
      "text/plain": [
       "             timestamp        username  temperature  heartrate  \\\n",
       "0  2017-01-01T12:00:23    michaelsmith         12.0         67   \n",
       "1  2017-01-01T12:01:09       kharrison          6.0         78   \n",
       "2  2017-01-01T12:01:34       smithadam          5.0         89   \n",
       "3  2017-01-01T12:02:09  eddierodriguez         28.0         76   \n",
       "4  2017-01-01T12:02:36       kenneth94         29.0         62   \n",
       "\n",
       "                                  build  latest      note  \n",
       "0  4e6a7805-8faa-2768-6ef6-eb3198b483ac     0.0  interval  \n",
       "1  7256b7b0-e502-f576-62ec-ed73533c9c84     0.0      wake  \n",
       "2  9226c94b-bb4b-a6c8-8e02-cb42b53e9c90     0.0       NaN  \n",
       "3                                   NaN     0.0    update  \n",
       "4  122f1c6a-403c-2221-6ed1-b5caa08f11e0     NaN       NaN  "
      ]
     },
     "execution_count": 4,
     "metadata": {},
     "output_type": "execute_result"
    }
   ],
   "source": [
    "df.head()"
   ]
  },
  {
   "cell_type": "code",
   "execution_count": 5,
   "id": "aa34927e",
   "metadata": {},
   "outputs": [
    {
     "data": {
      "text/plain": [
       "timestamp       object\n",
       "username        object\n",
       "temperature    float64\n",
       "heartrate        int64\n",
       "build           object\n",
       "latest         float64\n",
       "note            object\n",
       "dtype: object"
      ]
     },
     "execution_count": 5,
     "metadata": {},
     "output_type": "execute_result"
    }
   ],
   "source": [
    "df.dtypes"
   ]
  },
  {
   "cell_type": "code",
   "execution_count": 6,
   "id": "f21ddcf0",
   "metadata": {},
   "outputs": [
    {
     "data": {
      "text/plain": [
       "note\n",
       "wake        16496\n",
       "user        16416\n",
       "interval    16274\n",
       "sleep       16226\n",
       "update      16213\n",
       "test        16068\n",
       "Name: count, dtype: int64"
      ]
     },
     "execution_count": 6,
     "metadata": {},
     "output_type": "execute_result"
    }
   ],
   "source": [
    "df.note.value_counts()"
   ]
  },
  {
   "cell_type": "code",
   "execution_count": 7,
   "id": "60043d31",
   "metadata": {},
   "outputs": [],
   "source": [
    "df = pd.read_csv(\"D:\\iot_example_with_nulls.csv\",na_values=['n/a'])"
   ]
  },
  {
   "cell_type": "code",
   "execution_count": 8,
   "id": "22b7d4c4",
   "metadata": {},
   "outputs": [
    {
     "data": {
      "text/html": [
       "<div>\n",
       "<style scoped>\n",
       "    .dataframe tbody tr th:only-of-type {\n",
       "        vertical-align: middle;\n",
       "    }\n",
       "\n",
       "    .dataframe tbody tr th {\n",
       "        vertical-align: top;\n",
       "    }\n",
       "\n",
       "    .dataframe thead th {\n",
       "        text-align: right;\n",
       "    }\n",
       "</style>\n",
       "<table border=\"1\" class=\"dataframe\">\n",
       "  <thead>\n",
       "    <tr style=\"text-align: right;\">\n",
       "      <th></th>\n",
       "      <th>timestamp</th>\n",
       "      <th>username</th>\n",
       "      <th>temperature</th>\n",
       "      <th>heartrate</th>\n",
       "      <th>build</th>\n",
       "      <th>latest</th>\n",
       "      <th>note</th>\n",
       "    </tr>\n",
       "  </thead>\n",
       "  <tbody>\n",
       "    <tr>\n",
       "      <th>0</th>\n",
       "      <td>2017-01-01T12:00:23</td>\n",
       "      <td>michaelsmith</td>\n",
       "      <td>12.0</td>\n",
       "      <td>67</td>\n",
       "      <td>4e6a7805-8faa-2768-6ef6-eb3198b483ac</td>\n",
       "      <td>0.0</td>\n",
       "      <td>interval</td>\n",
       "    </tr>\n",
       "    <tr>\n",
       "      <th>1</th>\n",
       "      <td>2017-01-01T12:01:09</td>\n",
       "      <td>kharrison</td>\n",
       "      <td>6.0</td>\n",
       "      <td>78</td>\n",
       "      <td>7256b7b0-e502-f576-62ec-ed73533c9c84</td>\n",
       "      <td>0.0</td>\n",
       "      <td>wake</td>\n",
       "    </tr>\n",
       "    <tr>\n",
       "      <th>2</th>\n",
       "      <td>2017-01-01T12:01:34</td>\n",
       "      <td>smithadam</td>\n",
       "      <td>5.0</td>\n",
       "      <td>89</td>\n",
       "      <td>9226c94b-bb4b-a6c8-8e02-cb42b53e9c90</td>\n",
       "      <td>0.0</td>\n",
       "      <td>NaN</td>\n",
       "    </tr>\n",
       "    <tr>\n",
       "      <th>3</th>\n",
       "      <td>2017-01-01T12:02:09</td>\n",
       "      <td>eddierodriguez</td>\n",
       "      <td>28.0</td>\n",
       "      <td>76</td>\n",
       "      <td>NaN</td>\n",
       "      <td>0.0</td>\n",
       "      <td>update</td>\n",
       "    </tr>\n",
       "    <tr>\n",
       "      <th>4</th>\n",
       "      <td>2017-01-01T12:02:36</td>\n",
       "      <td>kenneth94</td>\n",
       "      <td>29.0</td>\n",
       "      <td>62</td>\n",
       "      <td>122f1c6a-403c-2221-6ed1-b5caa08f11e0</td>\n",
       "      <td>NaN</td>\n",
       "      <td>NaN</td>\n",
       "    </tr>\n",
       "    <tr>\n",
       "      <th>...</th>\n",
       "      <td>...</td>\n",
       "      <td>...</td>\n",
       "      <td>...</td>\n",
       "      <td>...</td>\n",
       "      <td>...</td>\n",
       "      <td>...</td>\n",
       "      <td>...</td>\n",
       "    </tr>\n",
       "    <tr>\n",
       "      <th>146392</th>\n",
       "      <td>2017-02-28T23:58:06</td>\n",
       "      <td>mcontreras</td>\n",
       "      <td>15.0</td>\n",
       "      <td>63</td>\n",
       "      <td>69e61a15-d2d0-47a7-1a27-e07b3eeeba10</td>\n",
       "      <td>0.0</td>\n",
       "      <td>NaN</td>\n",
       "    </tr>\n",
       "    <tr>\n",
       "      <th>146393</th>\n",
       "      <td>2017-02-28T23:58:43</td>\n",
       "      <td>joelrusso</td>\n",
       "      <td>NaN</td>\n",
       "      <td>89</td>\n",
       "      <td>NaN</td>\n",
       "      <td>0.0</td>\n",
       "      <td>NaN</td>\n",
       "    </tr>\n",
       "    <tr>\n",
       "      <th>146394</th>\n",
       "      <td>2017-02-28T23:59:23</td>\n",
       "      <td>lellis</td>\n",
       "      <td>NaN</td>\n",
       "      <td>84</td>\n",
       "      <td>dac87426-e147-9c39-6e4c-790bb11f8fc9</td>\n",
       "      <td>0.0</td>\n",
       "      <td>update</td>\n",
       "    </tr>\n",
       "    <tr>\n",
       "      <th>146395</th>\n",
       "      <td>2017-02-28T23:59:48</td>\n",
       "      <td>grayjasmin</td>\n",
       "      <td>17.0</td>\n",
       "      <td>64</td>\n",
       "      <td>4911a589-3a15-4bbf-1de1-e5a69ab739da</td>\n",
       "      <td>1.0</td>\n",
       "      <td>update</td>\n",
       "    </tr>\n",
       "    <tr>\n",
       "      <th>146396</th>\n",
       "      <td>2017-03-01T00:00:30</td>\n",
       "      <td>jgreene</td>\n",
       "      <td>23.0</td>\n",
       "      <td>70</td>\n",
       "      <td>4f95bbca-26a7-29e7-1f19-aaedf1a51741</td>\n",
       "      <td>0.0</td>\n",
       "      <td>interval</td>\n",
       "    </tr>\n",
       "  </tbody>\n",
       "</table>\n",
       "<p>146397 rows × 7 columns</p>\n",
       "</div>"
      ],
      "text/plain": [
       "                  timestamp        username  temperature  heartrate  \\\n",
       "0       2017-01-01T12:00:23    michaelsmith         12.0         67   \n",
       "1       2017-01-01T12:01:09       kharrison          6.0         78   \n",
       "2       2017-01-01T12:01:34       smithadam          5.0         89   \n",
       "3       2017-01-01T12:02:09  eddierodriguez         28.0         76   \n",
       "4       2017-01-01T12:02:36       kenneth94         29.0         62   \n",
       "...                     ...             ...          ...        ...   \n",
       "146392  2017-02-28T23:58:06      mcontreras         15.0         63   \n",
       "146393  2017-02-28T23:58:43       joelrusso          NaN         89   \n",
       "146394  2017-02-28T23:59:23          lellis          NaN         84   \n",
       "146395  2017-02-28T23:59:48      grayjasmin         17.0         64   \n",
       "146396  2017-03-01T00:00:30         jgreene         23.0         70   \n",
       "\n",
       "                                       build  latest      note  \n",
       "0       4e6a7805-8faa-2768-6ef6-eb3198b483ac     0.0  interval  \n",
       "1       7256b7b0-e502-f576-62ec-ed73533c9c84     0.0      wake  \n",
       "2       9226c94b-bb4b-a6c8-8e02-cb42b53e9c90     0.0       NaN  \n",
       "3                                        NaN     0.0    update  \n",
       "4       122f1c6a-403c-2221-6ed1-b5caa08f11e0     NaN       NaN  \n",
       "...                                      ...     ...       ...  \n",
       "146392  69e61a15-d2d0-47a7-1a27-e07b3eeeba10     0.0       NaN  \n",
       "146393                                   NaN     0.0       NaN  \n",
       "146394  dac87426-e147-9c39-6e4c-790bb11f8fc9     0.0    update  \n",
       "146395  4911a589-3a15-4bbf-1de1-e5a69ab739da     1.0    update  \n",
       "146396  4f95bbca-26a7-29e7-1f19-aaedf1a51741     0.0  interval  \n",
       "\n",
       "[146397 rows x 7 columns]"
      ]
     },
     "execution_count": 8,
     "metadata": {},
     "output_type": "execute_result"
    }
   ],
   "source": [
    "df"
   ]
  },
  {
   "cell_type": "code",
   "execution_count": 9,
   "id": "945bf3d2",
   "metadata": {},
   "outputs": [
    {
     "data": {
      "text/plain": [
       "(146397, 7)"
      ]
     },
     "execution_count": 9,
     "metadata": {},
     "output_type": "execute_result"
    }
   ],
   "source": [
    "df.shape"
   ]
  },
  {
   "cell_type": "code",
   "execution_count": 10,
   "id": "714eaf1e",
   "metadata": {},
   "outputs": [
    {
     "data": {
      "text/plain": [
       "(46116, 7)"
      ]
     },
     "execution_count": 10,
     "metadata": {},
     "output_type": "execute_result"
    }
   ],
   "source": [
    "df.dropna().shape"
   ]
  },
  {
   "cell_type": "code",
   "execution_count": 11,
   "id": "7a8b6d1d",
   "metadata": {},
   "outputs": [
    {
     "data": {
      "text/plain": [
       "(146397, 7)"
      ]
     },
     "execution_count": 11,
     "metadata": {},
     "output_type": "execute_result"
    }
   ],
   "source": [
    "df.dropna(how='all', axis=1).shape"
   ]
  },
  {
   "cell_type": "code",
   "execution_count": 12,
   "id": "0af1d744",
   "metadata": {},
   "outputs": [
    {
     "data": {
      "text/plain": [
       "['timestamp',\n",
       " 'username',\n",
       " 'temperature',\n",
       " 'heartrate',\n",
       " 'build',\n",
       " 'latest',\n",
       " 'note']"
      ]
     },
     "execution_count": 12,
     "metadata": {},
     "output_type": "execute_result"
    }
   ],
   "source": [
    "my_columns = list(df.columns)\n",
    "my_columns"
   ]
  },
  {
   "cell_type": "code",
   "execution_count": 13,
   "id": "e0f6f829",
   "metadata": {},
   "outputs": [
    {
     "data": {
      "text/plain": [
       "['timestamp', 'username', 'heartrate']"
      ]
     },
     "execution_count": 13,
     "metadata": {},
     "output_type": "execute_result"
    }
   ],
   "source": [
    "list(df.dropna(thresh=int(df.shape[0] * .9), axis=1).columns)"
   ]
  },
  {
   "cell_type": "code",
   "execution_count": 14,
   "id": "f9294e31",
   "metadata": {},
   "outputs": [],
   "source": [
    "missing_info = list(df.columns[df.isnull().any()])"
   ]
  },
  {
   "cell_type": "code",
   "execution_count": 15,
   "id": "41f2330b",
   "metadata": {},
   "outputs": [
    {
     "data": {
      "text/plain": [
       "['temperature', 'build', 'latest', 'note']"
      ]
     },
     "execution_count": 15,
     "metadata": {},
     "output_type": "execute_result"
    }
   ],
   "source": [
    "missing_info"
   ]
  },
  {
   "cell_type": "code",
   "execution_count": 16,
   "id": "1c663cc2",
   "metadata": {},
   "outputs": [
    {
     "name": "stdout",
     "output_type": "stream",
     "text": [
      "number missing for column temperature: 32357\n",
      "number missing for column build: 32350\n",
      "number missing for column latest: 32298\n",
      "number missing for column note: 48704\n"
     ]
    }
   ],
   "source": [
    "for col in missing_info:\n",
    "    num_missing = df[df[col].isnull() == True].shape[0]\n",
    "    print('number missing for column {}: {}'.format(col,num_missing))"
   ]
  },
  {
   "cell_type": "code",
   "execution_count": 17,
   "id": "0b9ef460",
   "metadata": {},
   "outputs": [
    {
     "name": "stdout",
     "output_type": "stream",
     "text": [
      "percent missing for column temperature: 0.22102228870810195\n",
      "percent missing for column build: 0.22097447352063226\n",
      "percent missing for column latest: 0.22061927498514314\n",
      "percent missing for column note: 0.332684412931959\n"
     ]
    }
   ],
   "source": [
    "for col in missing_info:\n",
    "    percent_missing = df[df[col].isnull() == True].shape[0] / df.shape[0]\n",
    "    print('percent missing for column {}: {}'.format(\n",
    "        col, percent_missing))"
   ]
  },
  {
   "cell_type": "code",
   "execution_count": 18,
   "id": "49aaccd7",
   "metadata": {},
   "outputs": [
    {
     "data": {
      "text/plain": [
       "note\n",
       "wake        16496\n",
       "user        16416\n",
       "interval    16274\n",
       "sleep       16226\n",
       "update      16213\n",
       "test        16068\n",
       "Name: count, dtype: int64"
      ]
     },
     "execution_count": 18,
     "metadata": {},
     "output_type": "execute_result"
    }
   ],
   "source": [
    "df.note.value_counts()"
   ]
  },
  {
   "cell_type": "code",
   "execution_count": 19,
   "id": "4f4c7034",
   "metadata": {},
   "outputs": [
    {
     "data": {
      "text/plain": [
       "build\n",
       "4e6a7805-8faa-2768-6ef6-eb3198b483ac    1\n",
       "12aefc6b-272c-751e-6117-134ee73e2649    1\n",
       "fd4049c3-2297-14ac-a27e-6da57129dd10    1\n",
       "0bcfab8f-bc25-3f8f-8585-0614e1555fd1    1\n",
       "b0de05dd-2860-abbb-8be6-f5c0e30ca063    1\n",
       "Name: count, dtype: int64"
      ]
     },
     "execution_count": 19,
     "metadata": {},
     "output_type": "execute_result"
    }
   ],
   "source": [
    "df.build.value_counts().head()"
   ]
  },
  {
   "cell_type": "code",
   "execution_count": 20,
   "id": "46df1e56",
   "metadata": {},
   "outputs": [
    {
     "data": {
      "text/plain": [
       "latest\n",
       "0.0    75735\n",
       "1.0    38364\n",
       "Name: count, dtype: int64"
      ]
     },
     "execution_count": 20,
     "metadata": {},
     "output_type": "execute_result"
    }
   ],
   "source": [
    "df.latest.value_counts()"
   ]
  },
  {
   "cell_type": "code",
   "execution_count": 21,
   "id": "883a2cd9",
   "metadata": {},
   "outputs": [
    {
     "data": {
      "text/plain": [
       "0         0.0\n",
       "1         0.0\n",
       "2         0.0\n",
       "3         0.0\n",
       "4         0.0\n",
       "         ... \n",
       "146392    0.0\n",
       "146393    0.0\n",
       "146394    0.0\n",
       "146395    1.0\n",
       "146396    0.0\n",
       "Name: latest, Length: 146397, dtype: float64"
      ]
     },
     "execution_count": 21,
     "metadata": {},
     "output_type": "execute_result"
    }
   ],
   "source": [
    "df.latest = df.latest.fillna(0)\n",
    "df.latest"
   ]
  },
  {
   "cell_type": "code",
   "execution_count": 22,
   "id": "6db04777",
   "metadata": {},
   "outputs": [
    {
     "data": {
      "text/plain": [
       "username\n",
       "esmith    45\n",
       "zsmith    43\n",
       "vsmith    41\n",
       "ysmith    40\n",
       "jsmith    37\n",
       "Name: count, dtype: int64"
      ]
     },
     "execution_count": 22,
     "metadata": {},
     "output_type": "execute_result"
    }
   ],
   "source": [
    "df.username.value_counts().head()"
   ]
  },
  {
   "cell_type": "code",
   "execution_count": 23,
   "id": "a759082e",
   "metadata": {},
   "outputs": [],
   "source": [
    "df = df.set_index('timestamp')"
   ]
  },
  {
   "cell_type": "code",
   "execution_count": 24,
   "id": "bc908474",
   "metadata": {},
   "outputs": [
    {
     "data": {
      "text/html": [
       "<div>\n",
       "<style scoped>\n",
       "    .dataframe tbody tr th:only-of-type {\n",
       "        vertical-align: middle;\n",
       "    }\n",
       "\n",
       "    .dataframe tbody tr th {\n",
       "        vertical-align: top;\n",
       "    }\n",
       "\n",
       "    .dataframe thead th {\n",
       "        text-align: right;\n",
       "    }\n",
       "</style>\n",
       "<table border=\"1\" class=\"dataframe\">\n",
       "  <thead>\n",
       "    <tr style=\"text-align: right;\">\n",
       "      <th></th>\n",
       "      <th>username</th>\n",
       "      <th>temperature</th>\n",
       "      <th>heartrate</th>\n",
       "      <th>build</th>\n",
       "      <th>latest</th>\n",
       "      <th>note</th>\n",
       "    </tr>\n",
       "    <tr>\n",
       "      <th>timestamp</th>\n",
       "      <th></th>\n",
       "      <th></th>\n",
       "      <th></th>\n",
       "      <th></th>\n",
       "      <th></th>\n",
       "      <th></th>\n",
       "    </tr>\n",
       "  </thead>\n",
       "  <tbody>\n",
       "    <tr>\n",
       "      <th>2017-01-01T12:00:23</th>\n",
       "      <td>michaelsmith</td>\n",
       "      <td>12.0</td>\n",
       "      <td>67</td>\n",
       "      <td>4e6a7805-8faa-2768-6ef6-eb3198b483ac</td>\n",
       "      <td>0.0</td>\n",
       "      <td>interval</td>\n",
       "    </tr>\n",
       "    <tr>\n",
       "      <th>2017-01-01T12:01:09</th>\n",
       "      <td>kharrison</td>\n",
       "      <td>6.0</td>\n",
       "      <td>78</td>\n",
       "      <td>7256b7b0-e502-f576-62ec-ed73533c9c84</td>\n",
       "      <td>0.0</td>\n",
       "      <td>wake</td>\n",
       "    </tr>\n",
       "    <tr>\n",
       "      <th>2017-01-01T12:01:34</th>\n",
       "      <td>smithadam</td>\n",
       "      <td>5.0</td>\n",
       "      <td>89</td>\n",
       "      <td>9226c94b-bb4b-a6c8-8e02-cb42b53e9c90</td>\n",
       "      <td>0.0</td>\n",
       "      <td>NaN</td>\n",
       "    </tr>\n",
       "    <tr>\n",
       "      <th>2017-01-01T12:02:09</th>\n",
       "      <td>eddierodriguez</td>\n",
       "      <td>28.0</td>\n",
       "      <td>76</td>\n",
       "      <td>NaN</td>\n",
       "      <td>0.0</td>\n",
       "      <td>update</td>\n",
       "    </tr>\n",
       "    <tr>\n",
       "      <th>2017-01-01T12:02:36</th>\n",
       "      <td>kenneth94</td>\n",
       "      <td>29.0</td>\n",
       "      <td>62</td>\n",
       "      <td>122f1c6a-403c-2221-6ed1-b5caa08f11e0</td>\n",
       "      <td>0.0</td>\n",
       "      <td>NaN</td>\n",
       "    </tr>\n",
       "  </tbody>\n",
       "</table>\n",
       "</div>"
      ],
      "text/plain": [
       "                           username  temperature  heartrate  \\\n",
       "timestamp                                                     \n",
       "2017-01-01T12:00:23    michaelsmith         12.0         67   \n",
       "2017-01-01T12:01:09       kharrison          6.0         78   \n",
       "2017-01-01T12:01:34       smithadam          5.0         89   \n",
       "2017-01-01T12:02:09  eddierodriguez         28.0         76   \n",
       "2017-01-01T12:02:36       kenneth94         29.0         62   \n",
       "\n",
       "                                                    build  latest      note  \n",
       "timestamp                                                                    \n",
       "2017-01-01T12:00:23  4e6a7805-8faa-2768-6ef6-eb3198b483ac     0.0  interval  \n",
       "2017-01-01T12:01:09  7256b7b0-e502-f576-62ec-ed73533c9c84     0.0      wake  \n",
       "2017-01-01T12:01:34  9226c94b-bb4b-a6c8-8e02-cb42b53e9c90     0.0       NaN  \n",
       "2017-01-01T12:02:09                                   NaN     0.0    update  \n",
       "2017-01-01T12:02:36  122f1c6a-403c-2221-6ed1-b5caa08f11e0     0.0       NaN  "
      ]
     },
     "execution_count": 24,
     "metadata": {},
     "output_type": "execute_result"
    }
   ],
   "source": [
    "df.head()"
   ]
  },
  {
   "cell_type": "code",
   "execution_count": 25,
   "id": "a9ec3408",
   "metadata": {},
   "outputs": [
    {
     "data": {
      "text/plain": [
       "timestamp\n",
       "2017-01-01T12:00:23    12.0\n",
       "2017-01-01T12:01:09     6.0\n",
       "2017-01-01T12:01:34     5.0\n",
       "2017-01-01T12:02:09    28.0\n",
       "2017-01-01T12:02:36    29.0\n",
       "                       ... \n",
       "2017-02-28T23:58:06    15.0\n",
       "2017-02-28T23:58:43     NaN\n",
       "2017-02-28T23:59:23     NaN\n",
       "2017-02-28T23:59:48    17.0\n",
       "2017-03-01T00:00:30    23.0\n",
       "Name: temperature, Length: 146397, dtype: float64"
      ]
     },
     "execution_count": 25,
     "metadata": {},
     "output_type": "execute_result"
    }
   ],
   "source": [
    "df.temperature = df.groupby('username').temperature.fillna(method='backfill', limit=3)\n",
    "df.temperature"
   ]
  },
  {
   "cell_type": "code",
   "execution_count": null,
   "id": "6453bfb3",
   "metadata": {},
   "outputs": [],
   "source": []
  },
  {
   "cell_type": "markdown",
   "id": "3312bd6c",
   "metadata": {},
   "source": [
    "# Scikit Learn Preprocessing"
   ]
  },
  {
   "cell_type": "code",
   "execution_count": 26,
   "id": "cab8d958",
   "metadata": {},
   "outputs": [],
   "source": [
    "from sklearn import preprocessing\n",
    "import pandas as pd\n",
    "from datetime import datetime"
   ]
  },
  {
   "cell_type": "code",
   "execution_count": 27,
   "id": "4416688f",
   "metadata": {},
   "outputs": [
    {
     "data": {
      "text/html": [
       "<div>\n",
       "<style scoped>\n",
       "    .dataframe tbody tr th:only-of-type {\n",
       "        vertical-align: middle;\n",
       "    }\n",
       "\n",
       "    .dataframe tbody tr th {\n",
       "        vertical-align: top;\n",
       "    }\n",
       "\n",
       "    .dataframe thead th {\n",
       "        text-align: right;\n",
       "    }\n",
       "</style>\n",
       "<table border=\"1\" class=\"dataframe\">\n",
       "  <thead>\n",
       "    <tr style=\"text-align: right;\">\n",
       "      <th></th>\n",
       "      <th>Date</th>\n",
       "      <th>Time</th>\n",
       "      <th>TargetTemp</th>\n",
       "      <th>ActualTemp</th>\n",
       "      <th>System</th>\n",
       "      <th>SystemAge</th>\n",
       "      <th>BuildingID</th>\n",
       "      <th>10</th>\n",
       "    </tr>\n",
       "  </thead>\n",
       "  <tbody>\n",
       "    <tr>\n",
       "      <th>0</th>\n",
       "      <td>6/1/13</td>\n",
       "      <td>0:00:01</td>\n",
       "      <td>66.0</td>\n",
       "      <td>58</td>\n",
       "      <td>13</td>\n",
       "      <td>20.0</td>\n",
       "      <td>4</td>\n",
       "      <td>NaN</td>\n",
       "    </tr>\n",
       "    <tr>\n",
       "      <th>1</th>\n",
       "      <td>6/2/13</td>\n",
       "      <td>1:00:01</td>\n",
       "      <td>NaN</td>\n",
       "      <td>68</td>\n",
       "      <td>3</td>\n",
       "      <td>20.0</td>\n",
       "      <td>17</td>\n",
       "      <td>NaN</td>\n",
       "    </tr>\n",
       "    <tr>\n",
       "      <th>2</th>\n",
       "      <td>6/3/13</td>\n",
       "      <td>2:00:01</td>\n",
       "      <td>70.0</td>\n",
       "      <td>73</td>\n",
       "      <td>17</td>\n",
       "      <td>20.0</td>\n",
       "      <td>18</td>\n",
       "      <td>NaN</td>\n",
       "    </tr>\n",
       "    <tr>\n",
       "      <th>3</th>\n",
       "      <td>6/4/13</td>\n",
       "      <td>3:00:01</td>\n",
       "      <td>67.0</td>\n",
       "      <td>63</td>\n",
       "      <td>2</td>\n",
       "      <td>NaN</td>\n",
       "      <td>15</td>\n",
       "      <td>NaN</td>\n",
       "    </tr>\n",
       "    <tr>\n",
       "      <th>4</th>\n",
       "      <td>6/5/13</td>\n",
       "      <td>4:00:01</td>\n",
       "      <td>68.0</td>\n",
       "      <td>74</td>\n",
       "      <td>16</td>\n",
       "      <td>9.0</td>\n",
       "      <td>3</td>\n",
       "      <td>NaN</td>\n",
       "    </tr>\n",
       "    <tr>\n",
       "      <th>...</th>\n",
       "      <td>...</td>\n",
       "      <td>...</td>\n",
       "      <td>...</td>\n",
       "      <td>...</td>\n",
       "      <td>...</td>\n",
       "      <td>...</td>\n",
       "      <td>...</td>\n",
       "      <td>...</td>\n",
       "    </tr>\n",
       "    <tr>\n",
       "      <th>7995</th>\n",
       "      <td>6/16/13</td>\n",
       "      <td>1:33:07</td>\n",
       "      <td>66.0</td>\n",
       "      <td>58</td>\n",
       "      <td>17</td>\n",
       "      <td>18.0</td>\n",
       "      <td>20</td>\n",
       "      <td>NaN</td>\n",
       "    </tr>\n",
       "    <tr>\n",
       "      <th>7996</th>\n",
       "      <td>6/17/13</td>\n",
       "      <td>2:33:07</td>\n",
       "      <td>68.0</td>\n",
       "      <td>72</td>\n",
       "      <td>17</td>\n",
       "      <td>27.0</td>\n",
       "      <td>12</td>\n",
       "      <td>NaN</td>\n",
       "    </tr>\n",
       "    <tr>\n",
       "      <th>7997</th>\n",
       "      <td>6/18/13</td>\n",
       "      <td>3:33:07</td>\n",
       "      <td>NaN</td>\n",
       "      <td>69</td>\n",
       "      <td>10</td>\n",
       "      <td>4.0</td>\n",
       "      <td>3</td>\n",
       "      <td>NaN</td>\n",
       "    </tr>\n",
       "    <tr>\n",
       "      <th>7998</th>\n",
       "      <td>6/19/13</td>\n",
       "      <td>4:33:07</td>\n",
       "      <td>65.0</td>\n",
       "      <td>63</td>\n",
       "      <td>7</td>\n",
       "      <td>23.0</td>\n",
       "      <td>20</td>\n",
       "      <td>NaN</td>\n",
       "    </tr>\n",
       "    <tr>\n",
       "      <th>7999</th>\n",
       "      <td>6/20/13</td>\n",
       "      <td>5:33:07</td>\n",
       "      <td>66.0</td>\n",
       "      <td>66</td>\n",
       "      <td>9</td>\n",
       "      <td>21.0</td>\n",
       "      <td>3</td>\n",
       "      <td>NaN</td>\n",
       "    </tr>\n",
       "  </tbody>\n",
       "</table>\n",
       "<p>8000 rows × 8 columns</p>\n",
       "</div>"
      ],
      "text/plain": [
       "         Date     Time  TargetTemp  ActualTemp  System  SystemAge  BuildingID  \\\n",
       "0      6/1/13  0:00:01        66.0          58      13       20.0           4   \n",
       "1      6/2/13  1:00:01         NaN          68       3       20.0          17   \n",
       "2      6/3/13  2:00:01        70.0          73      17       20.0          18   \n",
       "3      6/4/13  3:00:01        67.0          63       2        NaN          15   \n",
       "4      6/5/13  4:00:01        68.0          74      16        9.0           3   \n",
       "...       ...      ...         ...         ...     ...        ...         ...   \n",
       "7995  6/16/13  1:33:07        66.0          58      17       18.0          20   \n",
       "7996  6/17/13  2:33:07        68.0          72      17       27.0          12   \n",
       "7997  6/18/13  3:33:07         NaN          69      10        4.0           3   \n",
       "7998  6/19/13  4:33:07        65.0          63       7       23.0          20   \n",
       "7999  6/20/13  5:33:07        66.0          66       9       21.0           3   \n",
       "\n",
       "      10  \n",
       "0    NaN  \n",
       "1    NaN  \n",
       "2    NaN  \n",
       "3    NaN  \n",
       "4    NaN  \n",
       "...   ..  \n",
       "7995 NaN  \n",
       "7996 NaN  \n",
       "7997 NaN  \n",
       "7998 NaN  \n",
       "7999 NaN  \n",
       "\n",
       "[8000 rows x 8 columns]"
      ]
     },
     "execution_count": 27,
     "metadata": {},
     "output_type": "execute_result"
    }
   ],
   "source": [
    "hvac = pd.read_csv(\"D:\\HVAC_with_nulls.csv\")\n",
    "hvac"
   ]
  },
  {
   "cell_type": "code",
   "execution_count": 28,
   "id": "ff1283a1",
   "metadata": {},
   "outputs": [
    {
     "data": {
      "text/plain": [
       "Date           object\n",
       "Time           object\n",
       "TargetTemp    float64\n",
       "ActualTemp      int64\n",
       "System          int64\n",
       "SystemAge     float64\n",
       "BuildingID      int64\n",
       "10            float64\n",
       "dtype: object"
      ]
     },
     "execution_count": 28,
     "metadata": {},
     "output_type": "execute_result"
    }
   ],
   "source": [
    "hvac.dtypes"
   ]
  },
  {
   "cell_type": "code",
   "execution_count": 29,
   "id": "648f74f9",
   "metadata": {},
   "outputs": [
    {
     "data": {
      "text/plain": [
       "(8000, 8)"
      ]
     },
     "execution_count": 29,
     "metadata": {},
     "output_type": "execute_result"
    }
   ],
   "source": [
    "hvac.shape"
   ]
  },
  {
   "cell_type": "code",
   "execution_count": 30,
   "id": "238bb98a",
   "metadata": {},
   "outputs": [],
   "source": [
    "hvac_numeric = hvac[['TargetTemp', 'SystemAge']]"
   ]
  },
  {
   "cell_type": "code",
   "execution_count": 31,
   "id": "86a78382",
   "metadata": {},
   "outputs": [],
   "source": [
    "hvac_numeric = hvac[['TargetTemp', 'SystemAge']]"
   ]
  },
  {
   "cell_type": "code",
   "execution_count": 33,
   "id": "970ff719",
   "metadata": {},
   "outputs": [
    {
     "ename": "AttributeError",
     "evalue": "'DataFrame' object has no attribute 'fit_transform'",
     "output_type": "error",
     "traceback": [
      "\u001b[1;31m---------------------------------------------------------------------------\u001b[0m",
      "\u001b[1;31mAttributeError\u001b[0m                            Traceback (most recent call last)",
      "\u001b[1;32m~\\AppData\\Local\\Temp\\ipykernel_1356\\2581599755.py\u001b[0m in \u001b[0;36m?\u001b[1;34m()\u001b[0m\n\u001b[1;32m----> 1\u001b[1;33m \u001b[0mtransformed\u001b[0m \u001b[1;33m=\u001b[0m \u001b[0mhvac_numeric\u001b[0m\u001b[1;33m.\u001b[0m\u001b[0mfit_transform\u001b[0m\u001b[1;33m(\u001b[0m\u001b[0mhvac_numeric\u001b[0m\u001b[1;33m)\u001b[0m\u001b[1;33m\u001b[0m\u001b[1;33m\u001b[0m\u001b[0m\n\u001b[0m",
      "\u001b[1;32m~\\anaconda3\\Lib\\site-packages\\pandas\\core\\generic.py\u001b[0m in \u001b[0;36m?\u001b[1;34m(self, name)\u001b[0m\n\u001b[0;32m   5985\u001b[0m             \u001b[1;32mand\u001b[0m \u001b[0mname\u001b[0m \u001b[1;32mnot\u001b[0m \u001b[1;32min\u001b[0m \u001b[0mself\u001b[0m\u001b[1;33m.\u001b[0m\u001b[0m_accessors\u001b[0m\u001b[1;33m\u001b[0m\u001b[1;33m\u001b[0m\u001b[0m\n\u001b[0;32m   5986\u001b[0m             \u001b[1;32mand\u001b[0m \u001b[0mself\u001b[0m\u001b[1;33m.\u001b[0m\u001b[0m_info_axis\u001b[0m\u001b[1;33m.\u001b[0m\u001b[0m_can_hold_identifiers_and_holds_name\u001b[0m\u001b[1;33m(\u001b[0m\u001b[0mname\u001b[0m\u001b[1;33m)\u001b[0m\u001b[1;33m\u001b[0m\u001b[1;33m\u001b[0m\u001b[0m\n\u001b[0;32m   5987\u001b[0m         ):\n\u001b[0;32m   5988\u001b[0m             \u001b[1;32mreturn\u001b[0m \u001b[0mself\u001b[0m\u001b[1;33m[\u001b[0m\u001b[0mname\u001b[0m\u001b[1;33m]\u001b[0m\u001b[1;33m\u001b[0m\u001b[1;33m\u001b[0m\u001b[0m\n\u001b[1;32m-> 5989\u001b[1;33m         \u001b[1;32mreturn\u001b[0m \u001b[0mobject\u001b[0m\u001b[1;33m.\u001b[0m\u001b[0m__getattribute__\u001b[0m\u001b[1;33m(\u001b[0m\u001b[0mself\u001b[0m\u001b[1;33m,\u001b[0m \u001b[0mname\u001b[0m\u001b[1;33m)\u001b[0m\u001b[1;33m\u001b[0m\u001b[1;33m\u001b[0m\u001b[0m\n\u001b[0m",
      "\u001b[1;31mAttributeError\u001b[0m: 'DataFrame' object has no attribute 'fit_transform'"
     ]
    }
   ],
   "source": [
    "transformed = hvac_numeric.fit_transform(hvac_numeric)"
   ]
  },
  {
   "cell_type": "code",
   "execution_count": null,
   "id": "34f53216",
   "metadata": {},
   "outputs": [],
   "source": []
  }
 ],
 "metadata": {
  "kernelspec": {
   "display_name": "Python 3 (ipykernel)",
   "language": "python",
   "name": "python3"
  },
  "language_info": {
   "codemirror_mode": {
    "name": "ipython",
    "version": 3
   },
   "file_extension": ".py",
   "mimetype": "text/x-python",
   "name": "python",
   "nbconvert_exporter": "python",
   "pygments_lexer": "ipython3",
   "version": "3.11.5"
  }
 },
 "nbformat": 4,
 "nbformat_minor": 5
}
